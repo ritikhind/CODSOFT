{
 "cells": [
  {
   "cell_type": "code",
   "execution_count": 7,
   "id": "81aa3176-fb0d-4bea-97ce-85ca596f985d",
   "metadata": {},
   "outputs": [
    {
     "name": "stdin",
     "output_type": "stream",
     "text": [
      "Enter 1st number:  2\n",
      "Enter 2nd number:  5\n"
     ]
    },
    {
     "name": "stdout",
     "output_type": "stream",
     "text": [
      "select any one of the following\n",
      "1 for addition\n",
      "2 for subtraction\n",
      "3 for multiplication\n",
      "4 for division\n"
     ]
    },
    {
     "name": "stdin",
     "output_type": "stream",
     "text": [
      " 4\n"
     ]
    },
    {
     "name": "stdout",
     "output_type": "stream",
     "text": [
      "2.0/5.0 = 0.4\n",
      "Do you want to continue?(y/n)\n"
     ]
    },
    {
     "name": "stdin",
     "output_type": "stream",
     "text": [
      " y\n",
      "Enter 1st number:  3\n",
      "Enter 2nd number:  2\n"
     ]
    },
    {
     "name": "stdout",
     "output_type": "stream",
     "text": [
      "select any one of the following\n",
      "1 for addition\n",
      "2 for subtraction\n",
      "3 for multiplication\n",
      "4 for division\n"
     ]
    },
    {
     "name": "stdin",
     "output_type": "stream",
     "text": [
      " 3\n"
     ]
    },
    {
     "name": "stdout",
     "output_type": "stream",
     "text": [
      "3.0*2.0 = 6.0\n",
      "Do you want to continue?(y/n)\n"
     ]
    },
    {
     "name": "stdin",
     "output_type": "stream",
     "text": [
      " u\n"
     ]
    },
    {
     "name": "stdout",
     "output_type": "stream",
     "text": [
      "user has not followed my command\n",
      "Have a great day\n"
     ]
    }
   ],
   "source": [
    "try:\n",
    "    while True:\n",
    "        a = float(input(\"Enter 1st number: \"))\n",
    "        b = float(input(\"Enter 2nd number: \"))\n",
    "        print(\"select any one of the following\\n1 for addition\\n2 for subtraction\\n3 for multiplication\\n4 for division\")\n",
    "        choice = input()   \n",
    "        if choice=='1':\n",
    "            print(f\"{a}+{b} = {a+b}\")\n",
    "        elif choice=='2':\n",
    "            print(f\"{a}-{b} = {a-b}\")\n",
    "        elif choice=='3':\n",
    "            print(f\"{a}*{b} = {a*b}\")\n",
    "        elif choice=='4':\n",
    "            print(f\"{a}/{b} = {a/b}\")\n",
    "        else:\n",
    "            print(\"user has not taken my command into consideration\")\n",
    "        print(\"Do you want to continue?(y/n)\")\n",
    "        ch = input()\n",
    "        if ch=='n':\n",
    "            break\n",
    "        elif ch != 'y' and ch != 'n':\n",
    "            print(\"user has not followed my command\")\n",
    "            break\n",
    "except ValueError:\n",
    "    print(\"user is not providing number\")\n",
    "finally:\n",
    "    print(\"Have a great day\")"
   ]
  },
  {
   "cell_type": "code",
   "execution_count": null,
   "id": "d365d3cd-e344-4a39-87cf-1b772894008b",
   "metadata": {},
   "outputs": [],
   "source": []
  }
 ],
 "metadata": {
  "kernelspec": {
   "display_name": "Python [conda env:base] *",
   "language": "python",
   "name": "conda-base-py"
  },
  "language_info": {
   "codemirror_mode": {
    "name": "ipython",
    "version": 3
   },
   "file_extension": ".py",
   "mimetype": "text/x-python",
   "name": "python",
   "nbconvert_exporter": "python",
   "pygments_lexer": "ipython3",
   "version": "3.13.5"
  }
 },
 "nbformat": 4,
 "nbformat_minor": 5
}
