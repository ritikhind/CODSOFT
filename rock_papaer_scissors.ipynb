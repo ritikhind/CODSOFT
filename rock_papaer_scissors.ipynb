{
 "cells": [
  {
   "cell_type": "code",
   "execution_count": 3,
   "id": "23460088-af82-4c03-ba8e-34c452138749",
   "metadata": {},
   "outputs": [
    {
     "name": "stdin",
     "output_type": "stream",
     "text": [
      "choose any one from following\n",
      " 1.rock\n",
      "2.paper\n",
      "3.scissors paper\n"
     ]
    },
    {
     "name": "stdout",
     "output_type": "stream",
     "text": [
      "computer has chosen scissors\n",
      "user has chosen paper\n",
      "users point is 0\n",
      "computer's point is 1\n",
      "so the winner is computer\n"
     ]
    },
    {
     "name": "stdin",
     "output_type": "stream",
     "text": [
      "Do you want to play another round ?(y/n) y\n",
      "choose any one from following\n",
      " 1.rock\n",
      "2.paper\n",
      "3.scissors rock\n"
     ]
    },
    {
     "name": "stdout",
     "output_type": "stream",
     "text": [
      "computer has chosen rock\n",
      "user has chosen rock\n",
      "users point is 0\n",
      "computer's point is 1\n",
      "so the winner is computer\n"
     ]
    },
    {
     "name": "stdin",
     "output_type": "stream",
     "text": [
      "Do you want to play another round ?(y/n) y\n",
      "choose any one from following\n",
      " 1.rock\n",
      "2.paper\n",
      "3.scissors rock\n"
     ]
    },
    {
     "name": "stdout",
     "output_type": "stream",
     "text": [
      "computer has chosen paper\n",
      "user has chosen rock\n",
      "users point is 0\n",
      "computer's point is 2\n",
      "so the winner is computer\n"
     ]
    },
    {
     "name": "stdin",
     "output_type": "stream",
     "text": [
      "Do you want to play another round ?(y/n) n\n"
     ]
    }
   ],
   "source": [
    "from random import *\n",
    "user = 0\n",
    "comp = 0\n",
    "while True:\n",
    "    ch_user = input((\"choose any one from following\\n 1.rock\\n2.paper\\n3.scissors\"))             \n",
    "    ch_comp = choice([\"rock\",\"paper\",\"scissors\"])\n",
    "    \n",
    "    if not (ch_user in [\"rock\",\"paper\",\"scissors\"]):\n",
    "        print(\"user has not followed my command\")\n",
    "        break\n",
    "        \n",
    "    print(f\"computer has chosen {ch_comp}\")\n",
    "    print(f\"user has chosen {ch_user}\")\n",
    "    #checking winning conditions\n",
    "    if ch_user == \"rock\" and ch_comp == \"rock\":\n",
    "        pass\n",
    "    elif ch_user == \"paper\" and ch_comp == \"paper\":\n",
    "        pass\n",
    "    elif ch_user == \"scissors\" and ch_comp == \"scissors\":\n",
    "        pass\n",
    "    elif ch_user == \"rock\" and ch_comp == \"scissors\":\n",
    "        user+=1\n",
    "    elif ch_user == \"scissors\" and ch_comp == \"rock\":\n",
    "        comp+=1\n",
    "    elif ch_user == \"scissors\" and ch_comp == \"paper\":\n",
    "        user+=1\n",
    "    elif ch_user == \"paper\" and ch_comp == \"scissorsr\":\n",
    "        comp+=1\n",
    "    elif ch_user == \"paper\" and ch_comp == \"rock\":\n",
    "        user+=1\n",
    "    else : \n",
    "        comp+=1\n",
    "    #displaying result\n",
    "    \n",
    "    print(f\"users point is {user}\")\n",
    "    print(f\"computer's point is {comp}\")\n",
    "    \n",
    "    if user > comp:\n",
    "        print(\"so the winner is user\")\n",
    "    elif comp > user:\n",
    "        print(\"so the winner is computer\")\n",
    "    else :\n",
    "        print(\"draw\")\n",
    "    ch = input(\"Do you want to play another round ?(y/n)\")\n",
    "    if not (ch in ['y','n']):\n",
    "        print(\"user has not followed my command\")\n",
    "        break\n",
    "    if ch == 'n':\n",
    "        break"
   ]
  },
  {
   "cell_type": "code",
   "execution_count": null,
   "id": "cd6797bf-6dd6-4b15-8084-636b81cb45ff",
   "metadata": {},
   "outputs": [],
   "source": []
  }
 ],
 "metadata": {
  "kernelspec": {
   "display_name": "Python [conda env:base] *",
   "language": "python",
   "name": "conda-base-py"
  },
  "language_info": {
   "codemirror_mode": {
    "name": "ipython",
    "version": 3
   },
   "file_extension": ".py",
   "mimetype": "text/x-python",
   "name": "python",
   "nbconvert_exporter": "python",
   "pygments_lexer": "ipython3",
   "version": "3.13.5"
  }
 },
 "nbformat": 4,
 "nbformat_minor": 5
}
